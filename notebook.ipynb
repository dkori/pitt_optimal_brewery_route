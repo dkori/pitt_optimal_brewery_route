{
 "cells": [
  {
   "cell_type": "code",
   "execution_count": 511,
   "metadata": {},
   "outputs": [],
   "source": [
    "import pandas as pd\n",
    "import herepy\n",
    "import gurobipy as gp\n",
    "from gurobipy import GRB\n",
    "import config\n",
    "import datetime as dt\n",
    "import numpy as np"
   ]
  },
  {
   "cell_type": "code",
   "execution_count": 512,
   "metadata": {},
   "outputs": [],
   "source": [
    "geocoderApi = herepy.GeocoderApi(config.api_key)\n",
    "\n",
    "# read in breweries\n",
    "brewery_frame = pd.read_csv('brewery_list.csv')\n",
    "# interpret open / close as times\n",
    "coords= []\n",
    "home_address = 'Calvary Episcopal Church, Pittsburgh, PA'\n",
    "# home should be the first and last location, so add it to frame\n",
    "home_frame = pd.DataFrame({'Name':['home'],\n",
    "                          'Address': [home_address],\n",
    "                          'Open': ['00:00'],\n",
    "                          'Close': ['23:59'],\n",
    "                          'Food': ['No']})\n",
    "# add home_frame as the first and last row of brewery frame\n",
    "brewery_frame = pd.concat([home_frame,brewery_frame,home_frame]).reset_index()\n",
    "brewery_frame['Open'] = brewery_frame['Open'].apply(lambda x: dt.datetime.strptime(x,'%H:%M'))\n",
    "brewery_frame['Close'] = brewery_frame['Close'].apply(lambda x: dt.datetime.strptime(x,'%H:%M'))\n",
    "# create minutes after midnight columns in breweries frame for open and close\n",
    "origin = brewery_frame.iloc[0]['Open']\n",
    "brewery_frame['Open_minutes'] = brewery_frame['Open'].apply(lambda x: (x-origin).seconds/60)\n",
    "brewery_frame['Close_minutes'] = brewery_frame['Close'].apply(lambda x: (x-origin).seconds/60)"
   ]
  },
  {
   "cell_type": "code",
   "execution_count": 558,
   "metadata": {},
   "outputs": [],
   "source": [
    "coords = []"
   ]
  },
  {
   "cell_type": "code",
   "execution_count": 559,
   "metadata": {},
   "outputs": [],
   "source": [
    "for i in range(0,brewery_frame.shape[0]):\n",
    "    response = geocoderApi.free_form(brewery_frame.iloc[i]['Address'])\n",
    "    try:\n",
    "        position = response.as_dict()['items'][0]['access'][0]\n",
    "    except:\n",
    "        position = response.as_dict()['items'][0]['position']\n",
    "    coord = ','.join([str(position['lat']), str(position['lng'])])\n",
    "    coords.append(coord)\n",
    "brewery_frame['coords'] = coords"
   ]
  },
  {
   "cell_type": "code",
   "execution_count": 523,
   "metadata": {},
   "outputs": [],
   "source": [
    "# find all pairwise route times, store in a matrix by iterating through rows twice\n",
    "routing = herepy.RoutingApi(config.api_key)\n",
    "distances = list()\n",
    "for i in range(0,brewery_frame.shape[0]):\n",
    "    distance_subset = list()\n",
    "    start = brewery_frame.iloc[i]['Address']\n",
    "    for j in range(0,brewery_frame.shape[0]):\n",
    "        end = brewery_frame.iloc[j]['Address']\n",
    "        route = routing.pedastrian_route(start,end)\n",
    "        distance_subset.append(route.as_dict()['response']['route'][0]['leg'][0]['travelTime']/60)\n",
    "    distances.append(distance_subset)"
   ]
  },
  {
   "cell_type": "code",
   "execution_count": 492,
   "metadata": {},
   "outputs": [
    {
     "data": {
      "text/plain": [
       "array([60, 60, 45, 60, 60, 45, 60, 45, 45, 45, 45, 60, 45, 45, 60, 45, 60,\n",
       "       45, 45, 45, 45, 60, 60])"
      ]
     },
     "execution_count": 492,
     "metadata": {},
     "output_type": "execute_result"
    }
   ],
   "source": []
  },
  {
   "cell_type": "code",
   "execution_count": 672,
   "metadata": {},
   "outputs": [],
   "source": [
    "# define number of breweries we want to force our model to visit, start with 5 to encourage feasibility\n",
    "# note that slots includes both home and away\n",
    "# define brewery goal\n",
    "brewery_goal = 9\n",
    "slots = range(brewery_goal+2)\n",
    "# define stay length in minutes at each brewery\n",
    "stay_length = 45\n",
    "# define the number of stops\n",
    "stops = range(brewery_frame.shape[0])\n",
    "# create model\n",
    "m = gp.Model('breweries')\n",
    "# add decision variables - i x s matrix indicating if location i visited in slot s\n",
    "theta = m.addVars(stops, slots, vtype=GRB.BINARY, name = 'theta_is')\n",
    "# add decision variables for whether or not route is take from i to j\n",
    "X = m.addVars(stops,stops, vtype=GRB.BINARY, name = 'x_ij')\n",
    "# add a decision variable for Ts - Time of arrival at slot S in midnights after midnight\n",
    "T = m.addVars(slots,vtype=GRB.INTEGER)\n",
    "# define objective\n",
    "m.setObjective(sum(sum(distances[i][j]*X[i,j] for i in stops) for j in stops),\n",
    "              GRB.MINIMIZE)"
   ]
  },
  {
   "cell_type": "code",
   "execution_count": 673,
   "metadata": {},
   "outputs": [
    {
     "data": {
      "text/plain": [
       "<gurobi.Constr *Awaiting Model Update*>"
      ]
     },
     "execution_count": 673,
     "metadata": {},
     "output_type": "execute_result"
    }
   ],
   "source": [
    "# add a constraint forcing T[s] to take the right value ####################################################################################\n",
    "for s in slots[1:]:\n",
    "    m.addConstr(T[s],GRB.GREATER_EQUAL,\n",
    "               #30*(s-1)+sum(sum(sum(int(distances[i][j])*X[i,j]*theta[i,n] for i in stops) for j in stops) for n in slots[0:s-1]))\n",
    "                stay_length+T[s-1]+sum(sum(distances[i][j]*X[i,j]*theta[i,s-1] for i in stops)for j in stops))\n",
    "# add constraint limiting X[i,j] to only turn on if theta[i,s] = 1 and theta[j,s+1] = 1\n",
    "for i in stops:\n",
    "    for j in stops:\n",
    "            m.addConstr(X[i,j],GRB.EQUAL,sum(theta[i,s]*theta[j,s+1] for s in slots[0:-1]))\n",
    "# add constraint forcing one slot per brewery max\n",
    "for i in stops:\n",
    "    m.addConstr(sum(theta[i,s] for s in slots),GRB.LESS_EQUAL,1)\n",
    "# add constraint forcing one brewery per slot\n",
    "for s in slots:\n",
    "    m.addConstr(sum(theta[i,s] for i in stops),GRB.EQUAL,1)\n",
    "# force first and last slot to be home\n",
    "m.addConstr(theta[0,0],GRB.EQUAL,1)\n",
    "m.addConstr(theta[stops[-1],slots[-1]],GRB.EQUAL,1)"
   ]
  },
  {
   "cell_type": "code",
   "execution_count": 674,
   "metadata": {},
   "outputs": [],
   "source": [
    "# enforce opening and closing hours\n",
    "for s in slots:\n",
    "    for i in stops:\n",
    "        m.addConstr(T[s],GRB.GREATER_EQUAL,brewery_frame['Open_minutes'][i]*theta[i,s])\n",
    "        m.addConstr((T[s]+stay_length)*theta[i,s],GRB.LESS_EQUAL,\n",
    "               brewery_frame['Close_minutes'][i])\n",
    "# cap T at the number of minutes in a day\n",
    "for s in slots:\n",
    "    m.addConstr(T[s],GRB.LESS_EQUAL,24*60-1)"
   ]
  },
  {
   "cell_type": "code",
   "execution_count": 675,
   "metadata": {},
   "outputs": [
    {
     "name": "stdout",
     "output_type": "stream",
     "text": [
      "Changed value of parameter InfUnbdInfo to 1\n",
      "   Prev: 0  Min: 0  Max: 1  Default: 0\n",
      "Gurobi Optimizer version 9.0.0 build v9.0.0rc2 (mac64)\n",
      "Optimize a model with 300 rows, 793 columns and 1003 nonzeros\n",
      "Model fingerprint: 0x29d62ece\n",
      "Model has 792 quadratic constraints\n",
      "Variable types: 0 continuous, 793 integer (782 binary)\n",
      "Coefficient statistics:\n",
      "  Matrix range     [1e+00, 8e+02]\n",
      "  QMatrix range    [1e+00, 3e+02]\n",
      "  QLMatrix range   [1e+00, 4e+01]\n",
      "  Objective range  [4e+00, 3e+02]\n",
      "  Bounds range     [1e+00, 1e+00]\n",
      "  RHS range        [1e+00, 1e+03]\n",
      "  QRHS range       [4e+01, 1e+03]\n",
      "Presolve removed 80 rows and 154 columns\n",
      "Presolve time: 0.03s\n",
      "Presolved: 11407 rows, 4248 columns, 29847 nonzeros\n",
      "Presolved model has 9 quadratic constraint(s)\n",
      "Variable types: 0 continuous, 4248 integer (4158 binary)\n",
      "\n",
      "Root relaxation: objective 3.965000e+01, 113 iterations, 0.04 seconds\n",
      "\n",
      "    Nodes    |    Current Node    |     Objective Bounds      |     Work\n",
      " Expl Unexpl |  Obj  Depth IntInf | Incumbent    BestBd   Gap | It/Node Time\n",
      "\n",
      "     0     0   39.65000    0   18          -   39.65000      -     -    0s\n",
      "     0     0   39.65000    0   19          -   39.65000      -     -    0s\n",
      "     0     0   39.65000    0   36          -   39.65000      -     -    2s\n",
      "     0     0   39.65000    0   19          -   39.65000      -     -    3s\n",
      "     0     0   39.65000    0   25          -   39.65000      -     -    3s\n",
      "     0     0   39.65000    0   25          -   39.65000      -     -    3s\n",
      "     0     0   39.65000    0   18          -   39.65000      -     -    4s\n",
      "     0     0   39.65000    0   18          -   39.65000      -     -    4s\n",
      "     0     0   39.65000    0   18          -   39.65000      -     -    4s\n",
      "     0     0   39.65000    0   18          -   39.65000      -     -    5s\n",
      "     0     0   39.65000    0   18          -   39.65000      -     -    5s\n",
      "     0     0   39.65000    0   20          -   39.65000      -     -    5s\n",
      "     0     0   39.65000    0   18          -   39.65000      -     -    6s\n",
      "     0     2   41.87911    0   18          -   41.87911      -     -    8s\n",
      "     7     7   42.64508    4   59          -   42.64508      -   236   10s\n",
      "    80    72  172.48889   45   52          -   62.39813      -  40.9   15s\n",
      "   170   164  203.91462   77   48          -   62.39813      -  43.0   20s\n",
      "*  181   161              60     318.8166667   62.39813  80.4%  41.7   20s\n",
      "*  359   225              12     311.4500000   92.12222  70.4%  38.1   23s\n",
      "   483   337  240.27308   64   30  311.45000   92.63452  70.3%  34.8   25s\n",
      "H  693   456                     301.5166667   96.60556  68.0%  32.8   28s\n",
      "H  752   480                     291.7333333   99.92083  65.7%  32.2   29s\n",
      "   761   480  268.49359   37   19  291.73333   99.92083  65.7%  31.8   46s\n",
      "   781   495  152.12773   19   60  291.73333   99.92083  65.7%  35.0   50s\n",
      "   904   546  286.95556   49   43  291.73333  110.89259  62.0%  40.4   55s\n",
      "  1227   632  175.44459   28   42  291.73333  139.55357  52.2%  40.9   60s\n",
      "  1387   665  148.52917   27   48  291.73333  146.48958  49.8%  39.4   65s\n",
      "H 1607   684                     282.2333333  151.50148  46.3%  39.3   69s\n",
      "  1714   696  160.10324   26   46  282.23333  153.25000  45.7%  38.6   70s\n",
      "  1990   761  269.77847   24   46  282.23333  157.86731  44.1%  37.0   75s\n",
      "  2552   961  164.04416   24   50  282.23333  162.59231  42.4%  35.2   81s\n",
      "  2905  1103  169.96941   48   51  282.23333  165.06667  41.5%  34.2   85s\n",
      "  3649  1454  250.71148   32   33  282.23333  170.42111  39.6%  33.9   90s\n",
      "  4460  1739  268.63333   38   17  282.23333  176.31354  37.5%  32.7   95s\n",
      "  4904  1827     cutoff   34       282.23333  179.06319  36.6%  31.8  100s\n",
      "  5469  2024  281.44667   33   33  282.23333  181.95578  35.5%  31.2  105s\n",
      "  6427  2343  218.92210   35   49  282.23333  185.84286  34.2%  30.0  111s\n",
      "  7264  2599  222.30000   27   34  282.23333  187.86667  33.4%  29.5  121s\n",
      "  8075  2812 infeasible   26       282.23333  190.00000  32.7%  29.0  126s\n",
      "  8671  2968  198.44896   35   50  282.23333  191.26667  32.2%  28.7  130s\n",
      "  9392  3172  226.50000   25   36  282.23333  192.65152  31.7%  28.2  135s\n",
      " 10086  3331  223.51667   35   28  282.23333  194.11863  31.2%  28.0  141s\n",
      " 10744  3545 infeasible   34       282.23333  194.91905  30.9%  27.7  145s\n",
      " 11620  3756  225.07143   34   34  282.23333  196.36410  30.4%  27.5  150s\n",
      " 12576  3951  243.63000   36   29  282.23333  197.69804  30.0%  27.2  156s\n",
      " 13366  4103  274.52167   39   38  282.23333  199.10000  29.5%  27.0  161s\n",
      " 14408  4278  263.36500   33   38  282.23333  200.64804  28.9%  26.8  165s\n",
      " 14679  4331  253.36572   41   19  282.23333  201.08218  28.8%  26.8  207s\n",
      " 14684  4334  217.25000   38   78  282.23333  201.08218  28.8%  26.8  210s\n",
      " 14696  4342  252.07708   30  174  282.23333  201.08218  28.8%  26.8  215s\n",
      " 14700  4345  245.75000   38  166  282.23333  201.08218  28.8%  26.8  220s\n",
      " 14705  4348  227.76667   41  152  282.23333  201.08218  28.8%  26.8  225s\n",
      " 14709  4351  232.08750   21  151  282.23333  201.08218  28.8%  26.8  230s\n",
      " 14711  4352  239.97500   39  154  282.23333  201.08218  28.8%  26.8  235s\n",
      " 14716  4359  201.08218   31  115  282.23333  201.08218  28.8%  27.3  241s\n",
      " 14726  4364  238.60833   33   49  282.23333  201.08218  28.8%  27.4  245s\n",
      " 14748  4380  201.08218   38   71  282.23333  201.08218  28.8%  27.6  250s\n",
      " 14831  4415  201.08218   54   52  282.23333  201.08218  28.8%  28.1  255s\n",
      " 14999  4483  240.33095   80   76  282.23333  201.08218  28.8%  28.6  260s\n",
      " 15159  4499  223.15000   64   40  282.23333  201.08218  28.8%  28.9  265s\n",
      " 15259  4527  201.08218   41   55  282.23333  201.08218  28.8%  29.2  270s\n",
      " 15455  4560  201.08218   51   98  282.23333  201.08218  28.8%  29.7  275s\n",
      " 15629  4584  201.08218   51   90  282.23333  201.08218  28.8%  30.3  280s\n",
      " 15772  4582 infeasible   42       282.23333  201.08218  28.8%  30.6  287s\n",
      " 15905  4618  201.08218   47   56  282.23333  201.08218  28.8%  31.0  290s\n",
      " 16249  4618  201.08218   69   64  282.23333  201.08218  28.8%  31.9  297s\n",
      " 16334  4695  225.56111  119   31  282.23333  201.08218  28.8%  32.0  300s\n",
      " 16718  4715 infeasible   68       282.23333  201.08218  28.8%  32.7  306s\n",
      " 16979  4734  208.55667   52   73  282.23333  201.08218  28.8%  33.1  310s\n",
      " 17421  4799  219.10236   78  118  282.23333  201.08218  28.8%  33.8  316s\n",
      " 17769  4813  241.83611   53   39  282.23333  201.08218  28.8%  34.3  322s\n",
      " 18177  4813  201.08218   55   41  282.23333  201.08218  28.8%  34.9  327s\n",
      " 18416  4813 infeasible   77       282.23333  201.08218  28.8%  35.3  330s\n",
      " 18613  4812  246.49695   50   77  282.23333  201.08218  28.8%  35.7  335s\n",
      " 18761  4891  210.96743   42   56  282.23333  201.08218  28.8%  35.8  340s\n",
      " 19387  4922 infeasible   58       282.23333  201.08218  28.8%  36.3  347s\n",
      " 19624  4956  280.96786   82   59  282.23333  201.08218  28.8%  36.6  351s\n",
      " 20336  4985  247.52121   71   42  282.23333  201.08218  28.8%  37.0  357s\n",
      " 20626  4997  268.67500   49   43  282.23333  201.08218  28.8%  37.4  360s\n",
      " 21214  5073  207.30996   48   97  282.23333  201.08218  28.8%  38.0  367s\n",
      " 21549  5026  234.19744   83   59  282.23333  201.08218  28.8%  38.1  370s\n",
      " 22089  5038  206.37685   61   35  282.23333  201.08218  28.8%  38.3  382s\n",
      " 22344  5046  227.09103   94   43  282.23333  201.08218  28.8%  38.3  385s\n",
      " 22976  5029     cutoff   58       282.23333  201.08218  28.8%  38.5  393s\n",
      " 23246  4990  264.71389   69   64  282.23333  201.08218  28.8%  38.7  397s\n",
      " 23507  4969  229.99583   51   45  282.23333  201.08218  28.8%  38.9  400s\n",
      " 24172  4948  201.08218   37   49  282.23333  201.08218  28.8%  39.0  406s\n",
      " 24740  4961  231.05417   38   33  282.23333  201.08218  28.8%  39.1  411s\n",
      " 25339  4940 infeasible   61       282.23333  201.08218  28.8%  39.3  416s\n",
      " 25972  4859  228.46000   71   56  282.23333  201.08218  28.8%  39.4  424s\n",
      " 26232  4822 infeasible   62       282.23333  201.08218  28.8%  39.5  427s\n",
      " 26515  4833  205.60000   63   66  282.23333  201.08218  28.8%  39.6  431s\n",
      " 27087  4760  260.47393   90   99  282.23333  201.08218  28.8%  39.8  436s\n",
      " 27338  4685  230.52778   67   25  282.23333  201.80000  28.5%  39.8  459s\n",
      " 27347  4768  238.28943   71   57  282.23333  201.80833  28.5%  39.8  462s\n",
      " 27600  4723  230.06982   62   92  282.23333  202.16667  28.4%  39.9  465s\n"
     ]
    },
    {
     "name": "stdout",
     "output_type": "stream",
     "text": [
      " 28045  4767     cutoff   63       282.23333  203.00000  28.1%  40.1  470s\n",
      " 28865  4927  253.51667   65   40  282.23333  204.18081  27.7%  40.2  476s\n",
      " 29348  5088  250.14444   68   50  282.23333  204.64667  27.5%  40.3  491s\n",
      " 29830  5157     cutoff   54       282.23333  205.17299  27.3%  40.3  495s\n",
      " 30365  5313  265.98519   67   62  282.23333  205.63750  27.1%  40.3  500s\n",
      " 30767  5425  265.84167   65   36  282.23333  206.13875  27.0%  40.4  506s\n",
      " 31257  5517  227.81500   78   37  282.23333  206.78333  26.7%  40.5  512s\n",
      " 31768  5633  265.08750   74   33  282.23333  207.56667  26.5%  40.6  516s\n",
      " 32342  5738  236.72237   58   46  282.23333  208.22417  26.2%  40.6  520s\n",
      " 32819  5846     cutoff   86       282.23333  208.60000  26.1%  40.6  525s\n",
      " 33563  6082  253.44444   63   19  282.23333  209.39833  25.8%  40.6  531s\n",
      " 34115  6149  233.07405   75   81  282.23333  209.92586  25.6%  40.6  535s\n",
      " 34934  6327  282.15590   70   44  282.23333  210.85861  25.3%  40.5  542s\n",
      " 35451  6420  238.75000   77   46  282.23333  211.33333  25.1%  40.5  546s\n",
      " 35964  6440 infeasible   61       282.23333  211.81667  24.9%  40.6  550s\n",
      " 36811  6561  252.36667   56   31  282.23333  212.65278  24.7%  40.6  565s\n",
      " 37638  6643  266.44691   88   76  282.23333  213.32037  24.4%  40.5  570s\n",
      " 38115  6651  254.31735   55   42  282.23333  213.91977  24.2%  40.6  576s\n",
      " 38923  6732  257.11604   81   93  282.23333  214.75435  23.9%  40.6  581s\n",
      " 39606  6836  253.48765   55   32  282.23333  215.40238  23.7%  40.7  586s\n",
      " 40125  6880  240.75811   68   58  282.23333  215.83333  23.5%  40.7  590s\n",
      " 40908  7016  260.42727   70   45  282.23333  216.46852  23.3%  40.6  595s\n",
      " 41603  7055  271.21429   59   48  282.23333  217.26481  23.0%  40.6  601s\n",
      " 42386  7135  268.80000   53   28  282.23333  217.90278  22.8%  40.5  607s\n",
      " 42634  7142 infeasible   48       282.23333  218.25179  22.7%  40.5  610s\n",
      " 42875  7171  264.16250   67   43  282.23333  218.50833  22.6%  40.5  616s\n",
      " 43325  7236  254.79487   67   75  282.23333  218.92778  22.4%  40.6  621s\n",
      " 43820  7240  233.00859   60   50  282.23333  219.35516  22.3%  40.6  627s\n",
      " 44069  7251     cutoff   61       282.23333  219.70758  22.2%  40.6  641s\n",
      " 44479  7313  257.16277   84   84  282.23333  220.08333  22.0%  40.6  645s\n",
      " 45058  7353  272.21667   50   44  282.23333  220.77778  21.8%  40.6  651s\n",
      " 45701  7323  257.83000   67   35  282.23333  221.48333  21.5%  40.5  656s\n",
      " 46110  7293 infeasible   55       282.23333  221.93333  21.4%  40.6  660s\n",
      " 46667  7321     cutoff   82       282.23333  222.68333  21.1%  40.6  666s\n",
      " 47116  7315  258.55333   57   36  282.23333  223.22799  20.9%  40.6  679s\n",
      " 47298  7326     cutoff   64       282.23333  223.43958  20.8%  40.6  681s\n",
      " 47770  7308  281.14340   74   48  282.23333  223.96739  20.6%  40.6  685s\n",
      " 48470  7339 infeasible   57       282.23333  224.69167  20.4%  40.6  690s\n",
      " 49156  7310 infeasible   49       282.23333  225.38333  20.1%  40.6  696s\n",
      " 49639  7321     cutoff   67       282.23333  226.01333  19.9%  40.5  700s\n",
      " 50482  7333  250.88958   75   39  282.23333  226.88333  19.6%  40.4  705s\n",
      "*51204  7295              60     282.0666667  227.52229  19.3%  40.4  709s\n",
      " 51220  7302  237.56515   76   42  282.06667  227.52229  19.3%  40.4  712s\n",
      " 51502  7271 infeasible   57       282.06667  227.77667  19.2%  40.4  715s\n",
      " 51963  7298  266.86167   47   47  282.06667  228.31289  19.1%  40.4  721s\n",
      " 52154  7295  246.11224   48   77  282.06667  228.41667  19.0%  40.3  732s\n",
      " 52668  7260  279.38417   70   38  282.06667  229.04792  18.8%  40.3  735s\n",
      " 53587  7237     cutoff   75       282.06667  229.95000  18.5%  40.2  741s\n",
      " 54320  7174  237.28542   53   39  282.06667  230.89167  18.1%  40.2  745s\n",
      " 55257  7161  267.33571   62   35  282.06667  231.74529  17.8%  40.1  751s\n",
      " 55692  7170  243.23421   69   54  282.06667  232.12095  17.7%  40.1  755s\n",
      " 56426  7093 infeasible   68       282.06667  232.88426  17.4%  40.1  761s\n",
      " 56921  7050 infeasible   47       282.06667  233.39390  17.3%  40.0  765s\n",
      " 57654  7018  238.45000   73   37  282.06667  234.13333  17.0%  39.9  770s\n",
      " 58320  6918  266.61667   69   23  282.06667  234.81111  16.8%  39.9  776s\n",
      " 59071  6888 infeasible   55       282.06667  235.51667  16.5%  39.8  781s\n",
      " 59749  6751 infeasible   70       282.06667  236.22917  16.3%  39.8  786s\n",
      " 60276  6653  268.64583   49   38  282.06667  236.80346  16.0%  39.7  791s\n",
      " 60997  6556  268.45417   53   41  282.06667  237.55700  15.8%  39.6  796s\n",
      " 61485  6480 infeasible   50       282.06667  238.17500  15.6%  39.6  800s\n",
      " 62474  6322  242.51111   69   71  282.06667  239.19012  15.2%  39.5  806s\n",
      " 63221  6261  252.14167   63   29  282.06667  239.95000  14.9%  39.4  810s\n",
      " 63862  6161  275.30278   52   42  282.06667  240.54375  14.7%  39.3  816s\n",
      " 64341  6071  253.90196   74   48  282.06667  241.08333  14.5%  39.3  821s\n",
      " 65007  5965 infeasible   61       282.06667  241.73333  14.3%  39.3  825s\n",
      " 65666  5813     cutoff   81       282.06667  242.65741  14.0%  39.2  830s\n",
      " 66502  5591  253.84568   43   52  282.06667  243.56190  13.7%  39.1  835s\n",
      " 67421  5366     cutoff   61       282.06667  244.80049  13.2%  39.0  841s\n",
      " 68004  5182 infeasible   61       282.06667  245.48640  13.0%  39.0  845s\n",
      " 68872  4965  262.38647   33   73  282.06667  246.71667  12.5%  38.9  850s\n",
      " 69756  4672  258.58929   50   58  282.06667  247.88000  12.1%  38.8  855s\n",
      " 70630  4364     cutoff   62       282.06667  249.24545  11.6%  38.7  860s\n",
      " 71824  3871  263.85962   45   56  282.06667  251.25000  10.9%  38.6  866s\n",
      " 72563  3549  279.61667   54   24  282.06667  252.41739  10.5%  38.5  870s\n",
      " 73311  3206 infeasible   63       282.06667  253.85556  10.0%  38.4  876s\n",
      " 74073  2909  263.23611   61   35  282.06667  255.25625  9.50%  38.3  880s\n",
      " 75050  2444     cutoff   76       282.06667  257.26667  8.79%  38.2  885s\n",
      " 76135  1820 infeasible   70       282.06667  260.25000  7.73%  38.0  890s\n",
      " 77504   934     cutoff   80       282.06667  265.49510  5.88%  37.7  895s\n",
      "\n",
      "Cutting planes:\n",
      "  Gomory: 2\n",
      "  Implied bound: 8\n",
      "  Projected implied bound: 1\n",
      "  Clique: 63\n",
      "  MIR: 3\n",
      "  StrongCG: 1\n",
      "  Flow cover: 73\n",
      "  Zero half: 22\n",
      "  RLT: 10\n",
      "\n",
      "Explored 79054 nodes (2947767 simplex iterations) in 899.53 seconds\n",
      "Thread count was 4 (of 4 available processors)\n",
      "\n",
      "Solution count 6: 282.067 282.233 291.733 ... 318.817\n",
      "\n",
      "Optimal solution found (tolerance 1.00e-04)\n",
      "Best objective 2.820666666667e+02, best bound 2.820666666667e+02, gap 0.0000%\n"
     ]
    }
   ],
   "source": [
    "m.Params.InfUnbdInfo=1\n",
    "m.optimize()"
   ]
  },
  {
   "cell_type": "code",
   "execution_count": 677,
   "metadata": {},
   "outputs": [
    {
     "data": {
      "text/html": [
       "<div>\n",
       "<style scoped>\n",
       "    .dataframe tbody tr th:only-of-type {\n",
       "        vertical-align: middle;\n",
       "    }\n",
       "\n",
       "    .dataframe tbody tr th {\n",
       "        vertical-align: top;\n",
       "    }\n",
       "\n",
       "    .dataframe thead th {\n",
       "        text-align: right;\n",
       "    }\n",
       "</style>\n",
       "<table border=\"1\" class=\"dataframe\">\n",
       "  <thead>\n",
       "    <tr style=\"text-align: right;\">\n",
       "      <th></th>\n",
       "      <th>Name</th>\n",
       "      <th>Address</th>\n",
       "      <th>Open</th>\n",
       "      <th>Close</th>\n",
       "      <th>Food</th>\n",
       "      <th>Arrival Time</th>\n",
       "      <th>Departure Time</th>\n",
       "      <th>Minutes to next stop</th>\n",
       "    </tr>\n",
       "  </thead>\n",
       "  <tbody>\n",
       "    <tr>\n",
       "      <th>0</th>\n",
       "      <td>home</td>\n",
       "      <td>Calvary Episcopal Church</td>\n",
       "      <td>--</td>\n",
       "      <td>--</td>\n",
       "      <td>--</td>\n",
       "      <td>--</td>\n",
       "      <td>11:32</td>\n",
       "      <td>28</td>\n",
       "    </tr>\n",
       "    <tr>\n",
       "      <th>1</th>\n",
       "      <td>East End</td>\n",
       "      <td>147 Julius St</td>\n",
       "      <td>12:00</td>\n",
       "      <td>18:00</td>\n",
       "      <td>Yes</td>\n",
       "      <td>12:00</td>\n",
       "      <td>12:45</td>\n",
       "      <td>19</td>\n",
       "    </tr>\n",
       "    <tr>\n",
       "      <th>2</th>\n",
       "      <td>Brewdog</td>\n",
       "      <td>6144 Centre Ave</td>\n",
       "      <td>11:00</td>\n",
       "      <td>22:00</td>\n",
       "      <td>Yes</td>\n",
       "      <td>13:05</td>\n",
       "      <td>13:50</td>\n",
       "      <td>50</td>\n",
       "    </tr>\n",
       "    <tr>\n",
       "      <th>3</th>\n",
       "      <td>Trace</td>\n",
       "      <td>4312 Main St</td>\n",
       "      <td>13:00</td>\n",
       "      <td>22:00</td>\n",
       "      <td>Yes</td>\n",
       "      <td>14:40</td>\n",
       "      <td>15:25</td>\n",
       "      <td>17</td>\n",
       "    </tr>\n",
       "    <tr>\n",
       "      <th>4</th>\n",
       "      <td>Church</td>\n",
       "      <td>3525 Liberty Ave</td>\n",
       "      <td>12:00</td>\n",
       "      <td>23:00</td>\n",
       "      <td>Yes</td>\n",
       "      <td>15:43</td>\n",
       "      <td>16:28</td>\n",
       "      <td>41</td>\n",
       "    </tr>\n",
       "    <tr>\n",
       "      <th>5</th>\n",
       "      <td>Helltown</td>\n",
       "      <td>1700 Penn Ave</td>\n",
       "      <td>11:00</td>\n",
       "      <td>23:00</td>\n",
       "      <td>No</td>\n",
       "      <td>17:09</td>\n",
       "      <td>17:54</td>\n",
       "      <td>4</td>\n",
       "    </tr>\n",
       "    <tr>\n",
       "      <th>6</th>\n",
       "      <td>Insurrection</td>\n",
       "      <td>1812 Penn Ave</td>\n",
       "      <td>11:00</td>\n",
       "      <td>21:00</td>\n",
       "      <td>No</td>\n",
       "      <td>17:59</td>\n",
       "      <td>18:44</td>\n",
       "      <td>15</td>\n",
       "    </tr>\n",
       "    <tr>\n",
       "      <th>7</th>\n",
       "      <td>Cinderlands</td>\n",
       "      <td>2601 Smallman St</td>\n",
       "      <td>11:30</td>\n",
       "      <td>23:00</td>\n",
       "      <td>Yes</td>\n",
       "      <td>18:59</td>\n",
       "      <td>19:44</td>\n",
       "      <td>30</td>\n",
       "    </tr>\n",
       "    <tr>\n",
       "      <th>8</th>\n",
       "      <td>Eleventh Hour</td>\n",
       "      <td>3711 Charlotte St</td>\n",
       "      <td>13:00</td>\n",
       "      <td>21:00</td>\n",
       "      <td>Yes</td>\n",
       "      <td>20:15</td>\n",
       "      <td>21:00</td>\n",
       "      <td>4</td>\n",
       "    </tr>\n",
       "    <tr>\n",
       "      <th>9</th>\n",
       "      <td>Burghers</td>\n",
       "      <td>3601 Butler St</td>\n",
       "      <td>11:00</td>\n",
       "      <td>22:00</td>\n",
       "      <td>Yes</td>\n",
       "      <td>21:14</td>\n",
       "      <td>21:59</td>\n",
       "      <td>74</td>\n",
       "    </tr>\n",
       "    <tr>\n",
       "      <th>10</th>\n",
       "      <td>home</td>\n",
       "      <td>Calvary Episcopal Church</td>\n",
       "      <td>--</td>\n",
       "      <td>--</td>\n",
       "      <td>--</td>\n",
       "      <td>23:13</td>\n",
       "      <td>--</td>\n",
       "      <td>--</td>\n",
       "    </tr>\n",
       "  </tbody>\n",
       "</table>\n",
       "</div>"
      ],
      "text/plain": [
       "             Name                   Address   Open  Close Food Arrival Time  \\\n",
       "0            home  Calvary Episcopal Church     --     --   --           --   \n",
       "1        East End             147 Julius St  12:00  18:00  Yes        12:00   \n",
       "2         Brewdog           6144 Centre Ave  11:00  22:00  Yes        13:05   \n",
       "3           Trace              4312 Main St  13:00  22:00  Yes        14:40   \n",
       "4          Church          3525 Liberty Ave  12:00  23:00  Yes        15:43   \n",
       "5        Helltown             1700 Penn Ave  11:00  23:00   No        17:09   \n",
       "6    Insurrection             1812 Penn Ave  11:00  21:00   No        17:59   \n",
       "7     Cinderlands          2601 Smallman St  11:30  23:00  Yes        18:59   \n",
       "8   Eleventh Hour         3711 Charlotte St  13:00  21:00  Yes        20:15   \n",
       "9        Burghers            3601 Butler St  11:00  22:00  Yes        21:14   \n",
       "10           home  Calvary Episcopal Church     --     --   --        23:13   \n",
       "\n",
       "   Departure Time Minutes to next stop  \n",
       "0           11:32                   28  \n",
       "1           12:45                   19  \n",
       "2           13:50                   50  \n",
       "3           15:25                   17  \n",
       "4           16:28                   41  \n",
       "5           17:54                    4  \n",
       "6           18:44                   15  \n",
       "7           19:44                   30  \n",
       "8           21:00                    4  \n",
       "9           21:59                   74  \n",
       "10             --                   --  "
      ]
     },
     "execution_count": 677,
     "metadata": {},
     "output_type": "execute_result"
    }
   ],
   "source": [
    "# parse out decision\n",
    "included = []\n",
    "arrival_times = []\n",
    "for s in slots:\n",
    "    #print('slot:' +str(s))\n",
    "    for i in stops:\n",
    "        if round(theta[i,s].x) ==1.0:\n",
    "            #print(brewery_frame.iloc[i]['Name'])\n",
    "            #print((origin+pd.Timedelta(minutes=T[s].x)).time())\n",
    "            included.append(i)\n",
    "            arrival_times.append((origin+pd.Timedelta(minutes=T[s].x)))\n",
    "itinerary = brewery_frame.iloc[included][['Name', 'Address', 'Open', 'Close','Food']].reset_index(drop=True)\n",
    "# assign arrival Time\n",
    "itinerary['Arrival Time'] = arrival_times\n",
    "# calculate departure time\n",
    "itinerary['Departure Time'] = itinerary['Arrival Time'].apply(lambda x: x+pd.Timedelta(minutes=stay_length))\n",
    "itinerary['Open'] = itinerary['Open'].apply(lambda x: x.time().strftime('%H:%M'))\n",
    "itinerary['Close'] = itinerary['Close'].apply(lambda x: x.time().strftime('%H:%M'))\n",
    "rows = itinerary.shape[0]\n",
    "# grab minutes to next destination\n",
    "distance_to_next = []\n",
    "for k in slots[0:-1]:\n",
    "    i = included[k]\n",
    "    j = included[k+1]\n",
    "    distance_to_next.append(round(distances[i][j]))\n",
    "# departure time from home = arrival second destination - walk to first destination\n",
    "depart_home = itinerary.iloc[1]['Arrival Time'] - pd.Timedelta(minutes = distance_to_next[0])\n",
    "arrive_home = itinerary.iloc[rows-2]['Departure Time'] + pd.Timedelta(minutes = distance_to_next[-1])\n",
    "itinerary.loc[0,'Departure Time'] = depart_home\n",
    "itinerary.loc[rows-1,'Arrival Time'] = arrive_home\n",
    "# now that calculations on time are down, strip unneeded date information\n",
    "itinerary['Arrival Time'] = itinerary['Arrival Time'].apply(lambda x: x.time().strftime('%H:%M'))\n",
    "itinerary['Departure Time'] = itinerary['Departure Time'].apply(lambda x: x.time().strftime('%H:%M'))\n",
    "itinerary.loc[0,'Arrival Time'] = '--'\n",
    "itinerary.loc[rows-1,'Departure Time'] = '--'\n",
    "itinerary.loc[0,'Open'] = '--'\n",
    "itinerary.loc[0,'Close'] = '--'\n",
    "itinerary.loc[0,'Food'] = '--'\n",
    "itinerary.loc[rows-1,'Open'] = '--'\n",
    "itinerary.loc[rows-1,'Close'] = '--'\n",
    "itinerary.loc[rows-1,'Food'] = '--'\n",
    "# strip everything after comma for address\n",
    "itinerary['Address'] = itinerary['Address'].str.replace(',.*','')\n",
    "# make distance to next string\n",
    "distance_to_next_str = [str(x) for x in distance_to_next]\n",
    "# add in -- for last one\n",
    "distance_to_next_str.append('--')\n",
    "itinerary['Minutes to next stop'] = distance_to_next_str\n",
    "# fix the first and last arrival time since the model doesn't care about those\n",
    "itinerary.reset_index(drop=True)"
   ]
  },
  {
   "cell_type": "code",
   "execution_count": 476,
   "metadata": {},
   "outputs": [
    {
     "data": {
      "text/plain": [
       "'12:00'"
      ]
     },
     "execution_count": 476,
     "metadata": {},
     "output_type": "execute_result"
    }
   ],
   "source": [
    "itinerary.iloc[1]['Open'].strftime('%H:%M')"
   ]
  },
  {
   "cell_type": "code",
   "execution_count": 683,
   "metadata": {},
   "outputs": [
    {
     "data": {
      "text/plain": [
       "'<table border=\"1\" class=\"dataframe\">\\n  <thead>\\n    <tr style=\"text-align: right;\">\\n      <th></th>\\n      <th>Name</th>\\n      <th>Address</th>\\n      <th>Open</th>\\n      <th>Close</th>\\n      <th>Food</th>\\n      <th>Arrival Time</th>\\n      <th>Departure Time</th>\\n      <th>Minutes to next stop</th>\\n    </tr>\\n  </thead>\\n  <tbody>\\n    <tr>\\n      <th>0</th>\\n      <td>home</td>\\n      <td>Calvary Episcopal Church</td>\\n      <td>--</td>\\n      <td>--</td>\\n      <td>--</td>\\n      <td>--</td>\\n      <td>11:32</td>\\n      <td>28</td>\\n    </tr>\\n    <tr>\\n      <th>1</th>\\n      <td>East End</td>\\n      <td>147 Julius St</td>\\n      <td>12:00</td>\\n      <td>18:00</td>\\n      <td>Yes</td>\\n      <td>12:00</td>\\n      <td>12:45</td>\\n      <td>19</td>\\n    </tr>\\n    <tr>\\n      <th>2</th>\\n      <td>Brewdog</td>\\n      <td>6144 Centre Ave</td>\\n      <td>11:00</td>\\n      <td>22:00</td>\\n      <td>Yes</td>\\n      <td>13:05</td>\\n      <td>13:50</td>\\n      <td>50</td>\\n    </tr>\\n    <tr>\\n      <th>3</th>\\n      <td>Trace</td>\\n      <td>4312 Main St</td>\\n      <td>13:00</td>\\n      <td>22:00</td>\\n      <td>Yes</td>\\n      <td>14:40</td>\\n      <td>15:25</td>\\n      <td>17</td>\\n    </tr>\\n    <tr>\\n      <th>4</th>\\n      <td>Church</td>\\n      <td>3525 Liberty Ave</td>\\n      <td>12:00</td>\\n      <td>23:00</td>\\n      <td>Yes</td>\\n      <td>15:43</td>\\n      <td>16:28</td>\\n      <td>41</td>\\n    </tr>\\n    <tr>\\n      <th>5</th>\\n      <td>Helltown</td>\\n      <td>1700 Penn Ave</td>\\n      <td>11:00</td>\\n      <td>23:00</td>\\n      <td>No</td>\\n      <td>17:09</td>\\n      <td>17:54</td>\\n      <td>4</td>\\n    </tr>\\n    <tr>\\n      <th>6</th>\\n      <td>Insurrection</td>\\n      <td>1812 Penn Ave</td>\\n      <td>11:00</td>\\n      <td>21:00</td>\\n      <td>No</td>\\n      <td>17:59</td>\\n      <td>18:44</td>\\n      <td>15</td>\\n    </tr>\\n    <tr>\\n      <th>7</th>\\n      <td>Cinderlands</td>\\n      <td>2601 Smallman St</td>\\n      <td>11:30</td>\\n      <td>23:00</td>\\n      <td>Yes</td>\\n      <td>18:59</td>\\n      <td>19:44</td>\\n      <td>30</td>\\n    </tr>\\n    <tr>\\n      <th>8</th>\\n      <td>Eleventh Hour</td>\\n      <td>3711 Charlotte St</td>\\n      <td>13:00</td>\\n      <td>21:00</td>\\n      <td>Yes</td>\\n      <td>20:15</td>\\n      <td>21:00</td>\\n      <td>4</td>\\n    </tr>\\n    <tr>\\n      <th>9</th>\\n      <td>Burghers</td>\\n      <td>3601 Butler St</td>\\n      <td>11:00</td>\\n      <td>22:00</td>\\n      <td>Yes</td>\\n      <td>21:14</td>\\n      <td>21:59</td>\\n      <td>74</td>\\n    </tr>\\n    <tr>\\n      <th>10</th>\\n      <td>home</td>\\n      <td>Calvary Episcopal Church</td>\\n      <td>--</td>\\n      <td>--</td>\\n      <td>--</td>\\n      <td>23:13</td>\\n      <td>--</td>\\n      <td>--</td>\\n    </tr>\\n  </tbody>\\n</table>'"
      ]
     },
     "execution_count": 683,
     "metadata": {},
     "output_type": "execute_result"
    }
   ],
   "source": [
    "itinerary.to_html()"
   ]
  },
  {
   "cell_type": "code",
   "execution_count": 607,
   "metadata": {},
   "outputs": [
    {
     "data": {
      "text/plain": [
       "245"
      ]
     },
     "execution_count": 607,
     "metadata": {},
     "output_type": "execute_result"
    }
   ],
   "source": [
    "12+65+4+30+15+4+41+17+57"
   ]
  },
  {
   "cell_type": "code",
   "execution_count": null,
   "metadata": {},
   "outputs": [],
   "source": [
    "sum(itinerary[''])"
   ]
  },
  {
   "cell_type": "code",
   "execution_count": 679,
   "metadata": {},
   "outputs": [],
   "source": [
    "# create an api call\n",
    "main_string = 'https://image.maps.ls.hereapi.com/mia/1.6/routing?apiKey='+config.api_key+'&TransportModeType=pedestrian'\n",
    "# create a string that joins all of the waypoints together\n",
    "included_coords = list(brewery_frame.loc[included]['coords'])\n",
    "waypoint_list = []\n",
    "poix_list = []\n",
    "for i in range(len(included_coords)):\n",
    "    waypoint_list.append('waypoint'+str(i)+'='+str(included_coords[i]))\n",
    "    poix_list.append('poix'+str(i)+'='+str(included_coords[i]))"
   ]
  },
  {
   "cell_type": "code",
   "execution_count": 680,
   "metadata": {},
   "outputs": [],
   "source": [
    "# make a separate map of all brewery optio"
   ]
  },
  {
   "cell_type": "code",
   "execution_count": 681,
   "metadata": {},
   "outputs": [
    {
     "data": {
      "text/plain": [
       "<Response [200]>"
      ]
     },
     "execution_count": 681,
     "metadata": {},
     "output_type": "execute_result"
    }
   ],
   "source": [
    "api_call = main_string+'&'+('&'.join(waypoint_list))+'&'+('&'.join(poix_list))\n",
    "import requests\n",
    "from io import StringIO\n",
    "requests.get(api_call)\n"
   ]
  },
  {
   "cell_type": "code",
   "execution_count": 682,
   "metadata": {},
   "outputs": [
    {
     "data": {
      "text/plain": [
       "'https://image.maps.ls.hereapi.com/mia/1.6/routing?apiKey=-eGe5WpGhIl5depjfbvcLDasVOx64obHjD_CPfoO3Wk&TransportModeType=pedestrian&waypoint0=40.45652,-79.92217&waypoint1=40.45919,-79.91144&waypoint2=40.46051,-79.92303&waypoint3=40.46424,-79.9533&waypoint4=40.46183,-79.96429&waypoint5=40.44983,-79.98587&waypoint6=40.45064,-79.9846&waypoint7=40.45573,-79.97906&waypoint8=40.46689,-79.96541&waypoint9=40.46548,-79.96524&waypoint10=40.45652,-79.92217&poix0=40.45652,-79.92217&poix1=40.45919,-79.91144&poix2=40.46051,-79.92303&poix3=40.46424,-79.9533&poix4=40.46183,-79.96429&poix5=40.44983,-79.98587&poix6=40.45064,-79.9846&poix7=40.45573,-79.97906&poix8=40.46689,-79.96541&poix9=40.46548,-79.96524&poix10=40.45652,-79.92217'"
      ]
     },
     "execution_count": 682,
     "metadata": {},
     "output_type": "execute_result"
    }
   ],
   "source": [
    "api_call"
   ]
  },
  {
   "cell_type": "code",
   "execution_count": 656,
   "metadata": {},
   "outputs": [
    {
     "name": "stderr",
     "output_type": "stream",
     "text": [
      "/Users/devrajkori/anaconda3/lib/python3.7/site-packages/ipykernel_launcher.py:18: FutureWarning: Method `add_children` is deprecated. Please use `add_child` instead.\n"
     ]
    },
    {
     "data": {
      "text/html": [
       "<div style=\"width:100%;\"><div style=\"position:relative;width:100%;height:0;padding-bottom:60%;\"><span style=\"color:#565656\">Make this Notebook Trusted to load map: File -> Trust Notebook</span><iframe src=\"about:blank\" style=\"position:absolute;width:100%;height:100%;left:0;top:0;border:none !important;\" data-html=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 onload=\"this.contentDocument.open();this.contentDocument.write(atob(this.getAttribute('data-html')));this.contentDocument.close();\" allowfullscreen webkitallowfullscreen mozallowfullscreen></iframe></div></div>"
      ],
      "text/plain": [
       "<folium.folium.Map at 0x116dffcc0>"
      ]
     },
     "execution_count": 656,
     "metadata": {},
     "output_type": "execute_result"
    }
   ],
   "source": [
    "# map oout all breweries for blog post\n",
    "import folium\n",
    "icon_size = (14, 14)\n",
    "lon, lat =  -79.9532, 40.4443 \n",
    "zoom_start = 12\n",
    "mapa = folium.Map(location=[lat, lon], tiles=\"Cartodb Positron\",\n",
    "                  zoom_start=zoom_start)\n",
    "# loop through brewery_frame coords, define lat lon\n",
    "coord_for_map = []\n",
    "for i in range(brewery_frame.shape[0]):\n",
    "    coordinates = brewery_frame.iloc[i]['coords'].split(',')\n",
    "    icon_url = 'https://devrajkori.com/wp-content/uploads/2021/04/beer_icon.png'\n",
    "    icon = folium.features.CustomIcon(icon_url,\n",
    "                                  icon_size=(14, 14))\n",
    "    # make the name a clickable popup\n",
    "    popup = brewery_frame.iloc[i]['Name']\n",
    "    marker = folium.map.Marker(coordinates, icon=icon, popup=folium.map.Popup(popup))\n",
    "    mapa.add_children(marker)\n",
    "mapa"
   ]
  },
  {
   "cell_type": "code",
   "execution_count": 657,
   "metadata": {},
   "outputs": [],
   "source": [
    "mapa.save('all_breweries_map.html')"
   ]
  },
  {
   "cell_type": "code",
   "execution_count": 640,
   "metadata": {},
   "outputs": [
    {
     "data": {
      "text/plain": [
       "'https://image.maps.ls.hereapi.com/mia/1.6/routing?apiKey=-eGe5WpGhIl5depjfbvcLDasVOx64obHjD_CPfoO3Wk&poix0=40.45652,-79.92217&poix1=40.45446,-80.00003&poix2=40.45697,-79.99178&poix3=40.45064,-79.9846&poix4=40.44983,-79.98587&poix5=40.49457,-79.93265&poix6=40.4963,-79.92657&poix7=40.46689,-79.96541&poix8=40.46548,-79.96524&poix9=40.4065,-79.90998&poix10=40.48444,-79.94795'"
      ]
     },
     "execution_count": 640,
     "metadata": {},
     "output_type": "execute_result"
    }
   ],
   "source": [
    "api_call2"
   ]
  },
  {
   "cell_type": "code",
   "execution_count": 641,
   "metadata": {},
   "outputs": [
    {
     "data": {
      "text/plain": [
       "'https://image.maps.ls.hereapi.com/mia/1.6/routing?apiKey=-eGe5WpGhIl5depjfbvcLDasVOx64obHjD_CPfoO3Wk'"
      ]
     },
     "execution_count": 641,
     "metadata": {},
     "output_type": "execute_result"
    }
   ],
   "source": [
    "main_string"
   ]
  },
  {
   "cell_type": "code",
   "execution_count": 658,
   "metadata": {},
   "outputs": [
    {
     "data": {
      "text/html": [
       "<div style=\"width:100%;\"><div style=\"position:relative;width:100%;height:0;padding-bottom:60%;\"><span style=\"color:#565656\">Make this Notebook Trusted to load map: File -> Trust Notebook</span><iframe src=\"about:blank\" style=\"position:absolute;width:100%;height:100%;left:0;top:0;border:none !important;\" data-html=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 onload=\"this.contentDocument.open();this.contentDocument.write(atob(this.getAttribute('data-html')));this.contentDocument.close();\" allowfullscreen webkitallowfullscreen mozallowfullscreen></iframe></div></div>"
      ],
      "text/plain": [
       "<folium.folium.Map at 0x116dffcc0>"
      ]
     },
     "execution_count": 658,
     "metadata": {},
     "output_type": "execute_result"
    }
   ],
   "source": [
    "mapa"
   ]
  },
  {
   "cell_type": "code",
   "execution_count": null,
   "metadata": {},
   "outputs": [],
   "source": []
  },
  {
   "cell_type": "code",
   "execution_count": null,
   "metadata": {},
   "outputs": [],
   "source": []
  },
  {
   "cell_type": "code",
   "execution_count": null,
   "metadata": {},
   "outputs": [],
   "source": []
  },
  {
   "cell_type": "code",
   "execution_count": null,
   "metadata": {},
   "outputs": [],
   "source": []
  },
  {
   "cell_type": "code",
   "execution_count": null,
   "metadata": {},
   "outputs": [],
   "source": []
  }
 ],
 "metadata": {
  "kernelspec": {
   "display_name": "Python 3",
   "language": "python",
   "name": "python3"
  },
  "language_info": {
   "codemirror_mode": {
    "name": "ipython",
    "version": 3
   },
   "file_extension": ".py",
   "mimetype": "text/x-python",
   "name": "python",
   "nbconvert_exporter": "python",
   "pygments_lexer": "ipython3",
   "version": "3.7.1"
  }
 },
 "nbformat": 4,
 "nbformat_minor": 2
}
