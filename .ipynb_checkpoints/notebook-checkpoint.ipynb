{
 "cells": [
  {
   "cell_type": "code",
   "execution_count": 53,
   "metadata": {},
   "outputs": [],
   "source": [
    "import pandas as pd\n",
    "import herepy\n",
    "import gurobipy as gp\n",
    "from gurobipy import GRB\n",
    "import config\n",
    "import datetime as dt"
   ]
  },
  {
   "cell_type": "code",
   "execution_count": 33,
   "metadata": {},
   "outputs": [],
   "source": [
    "geocoderApi = herepy.GeocoderApi(config.api_key)\n",
    "\n",
    "# read in breweries\n",
    "brewery_frame = pd.read_csv('brewery_list.csv')\n",
    "# interpret open / close \n",
    "coords= []\n",
    "# home should be the first and last location, so add it to frame\n",
    "home_frame = pd.DataFrame({'Name':'home',\n",
    "                          'Address': 'Shakespeare Giant Eagle',\n",
    "                          'o'})\n",
    "for i in range(0,brewery_frame.shape[0]):\n",
    "    response = geocoderApi.free_form(brewery_frame.iloc[i]['Address'])\n",
    "    position = response.as_dict()['items'][0]['position']\n",
    "    coord = ', '.join([str(position['lng']), str(position['lat'])])\n",
    "    coords.append(coord)\n",
    "brewery_frame['coords'] = coords"
   ]
  },
  {
   "cell_type": "code",
   "execution_count": 44,
   "metadata": {},
   "outputs": [],
   "source": [
    "# find all pairwise route times, store in a matrix by iterating through rows twice\n",
    "routing = herepy.RoutingApi(config.api_key)\n",
    "distances = list()\n",
    "for i in range(0,brewery_frame.shape[0]):\n",
    "    distance_subset = list()\n",
    "    start = brewery_frame.iloc[i]['Address']\n",
    "    for j in range(0,brewery_frame.shape[0]):\n",
    "        end = brewery_frame.iloc[j]['Address']\n",
    "        route = routing.pedastrian_route(start,end)\n",
    "        distance_subset.append(route.as_dict()['response']['route'][0]['leg'][0]['travelTime'])\n",
    "    distances.append(distance_subset)\n"
   ]
  },
  {
   "cell_type": "code",
   "execution_count": 48,
   "metadata": {},
   "outputs": [
    {
     "data": {
      "text/plain": [
       "{'lat': 40.45867, 'lng': -79.92076}"
      ]
     },
     "execution_count": 48,
     "metadata": {},
     "output_type": "execute_result"
    }
   ],
   "source": [
    "# home location should be the first and last i, so add it in \n",
    "home = 'Shakespeare Giant Eagle, Pittsburgh, PA'\n",
    "geocoderApi.free_form(home).as_dict()['items'][0]['position']"
   ]
  },
  {
   "cell_type": "code",
   "execution_count": 28,
   "metadata": {},
   "outputs": [
    {
     "data": {
      "text/plain": [
       "{'lat': 40.45446, 'lng': -80.00003}"
      ]
     },
     "execution_count": 28,
     "metadata": {},
     "output_type": "execute_result"
    }
   ],
   "source": [
    "test.as_dict()['items'][0]['position']"
   ]
  },
  {
   "cell_type": "code",
   "execution_count": 54,
   "metadata": {},
   "outputs": [
    {
     "data": {
      "text/plain": [
       "'14:00'"
      ]
     },
     "execution_count": 54,
     "metadata": {},
     "output_type": "execute_result"
    }
   ],
   "source": [
    "brewery_frame.iloc[0]['Open']"
   ]
  },
  {
   "cell_type": "code",
   "execution_count": 59,
   "metadata": {},
   "outputs": [
    {
     "ename": "TypeError",
     "evalue": "strptime() argument 1 must be str, not Series",
     "output_type": "error",
     "traceback": [
      "\u001b[0;31m---------------------------------------------------------------------------\u001b[0m",
      "\u001b[0;31mTypeError\u001b[0m                                 Traceback (most recent call last)",
      "\u001b[0;32m<ipython-input-59-679b471deb6e>\u001b[0m in \u001b[0;36m<module>\u001b[0;34m\u001b[0m\n\u001b[0;32m----> 1\u001b[0;31m \u001b[0mdt\u001b[0m\u001b[0;34m.\u001b[0m\u001b[0mdatetime\u001b[0m\u001b[0;34m.\u001b[0m\u001b[0mstrptime\u001b[0m\u001b[0;34m(\u001b[0m\u001b[0mbrewery_frame\u001b[0m\u001b[0;34m[\u001b[0m\u001b[0;34m'Open'\u001b[0m\u001b[0;34m]\u001b[0m\u001b[0;34m,\u001b[0m \u001b[0;34m'%H:%M'\u001b[0m\u001b[0;34m)\u001b[0m\u001b[0;34m.\u001b[0m\u001b[0mtime\u001b[0m\u001b[0;34m(\u001b[0m\u001b[0;34m)\u001b[0m\u001b[0;34m\u001b[0m\u001b[0;34m\u001b[0m\u001b[0m\n\u001b[0m",
      "\u001b[0;31mTypeError\u001b[0m: strptime() argument 1 must be str, not Series"
     ]
    }
   ],
   "source": [
    "dt.datetime.strptime(brewery_frame['Open'], '%H:%M').time()"
   ]
  },
  {
   "cell_type": "code",
   "execution_count": 70,
   "metadata": {},
   "outputs": [
    {
     "data": {
      "text/plain": [
       "False"
      ]
     },
     "execution_count": 70,
     "metadata": {},
     "output_type": "execute_result"
    }
   ],
   "source": [
    "test_list = brewery_frame['Open'].apply(lambda x: dt.datetime.strptime(x,'%H:%M').time())\n",
    "test_list[1]>test_list[0]"
   ]
  },
  {
   "cell_type": "code",
   "execution_count": null,
   "metadata": {},
   "outputs": [],
   "source": []
  }
 ],
 "metadata": {
  "kernelspec": {
   "display_name": "Python 3",
   "language": "python",
   "name": "python3"
  },
  "language_info": {
   "codemirror_mode": {
    "name": "ipython",
    "version": 3
   },
   "file_extension": ".py",
   "mimetype": "text/x-python",
   "name": "python",
   "nbconvert_exporter": "python",
   "pygments_lexer": "ipython3",
   "version": "3.7.1"
  }
 },
 "nbformat": 4,
 "nbformat_minor": 2
}
