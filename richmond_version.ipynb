{
 "cells": [
  {
   "cell_type": "code",
   "execution_count": 1,
   "metadata": {},
   "outputs": [],
   "source": [
    "import pandas as pd\n",
    "import herepy\n",
    "import gurobipy as gp\n",
    "from gurobipy import GRB\n",
    "import config\n",
    "import datetime as dt\n",
    "import numpy as np"
   ]
  },
  {
   "cell_type": "code",
   "execution_count": 2,
   "metadata": {},
   "outputs": [],
   "source": [
    "geocoderApi = herepy.GeocoderApi(config.api_key)\n",
    "city = 'richmond'\n",
    "# read in breweries\n",
    "brewery_frame = pd.read_csv('brewery_list_'+city+'.csv')\n",
    "# interpret open / close as times\n",
    "coords= []\n",
    "home_address = '3005 Grayland Ave, Richmond, VA'\n",
    "# home should be the first and last location, so add it to frame\n",
    "home_frame = pd.DataFrame({'Name':['home'],\n",
    "                          'Address': [home_address],\n",
    "                          'Open': ['00:00'],\n",
    "                          'Close': ['23:59'],\n",
    "                          'Food': ['No']})\n",
    "# add home_frame as the first and last row of brewery frame\n",
    "brewery_frame = pd.concat([home_frame,brewery_frame,home_frame]).reset_index()\n",
    "brewery_frame['Open'] = brewery_frame['Open'].apply(lambda x: dt.datetime.strptime(x,'%H:%M'))\n",
    "brewery_frame['Close'] = brewery_frame['Close'].apply(lambda x: dt.datetime.strptime(x,'%H:%M'))\n",
    "# create minutes after midnight columns in breweries frame for open and close\n",
    "origin = brewery_frame.iloc[0]['Open']\n",
    "brewery_frame['Open_minutes'] = brewery_frame['Open'].apply(lambda x: (x-origin).seconds/60)\n",
    "brewery_frame['Close_minutes'] = brewery_frame['Close'].apply(lambda x: (x-origin).seconds/60)"
   ]
  },
  {
   "cell_type": "code",
   "execution_count": 3,
   "metadata": {},
   "outputs": [],
   "source": [
    "coords = []"
   ]
  },
  {
   "cell_type": "code",
   "execution_count": 4,
   "metadata": {},
   "outputs": [],
   "source": [
    "for i in range(0,brewery_frame.shape[0]):\n",
    "    response = geocoderApi.free_form(brewery_frame.iloc[i]['Address'])\n",
    "    try:\n",
    "        position = response.as_dict()['items'][0]['access'][0]\n",
    "    except:\n",
    "        position = response.as_dict()['items'][0]['position']\n",
    "    coord = ','.join([str(position['lat']), str(position['lng'])])\n",
    "    coords.append(coord)\n",
    "brewery_frame['coords'] = coords"
   ]
  },
  {
   "cell_type": "code",
   "execution_count": 5,
   "metadata": {},
   "outputs": [],
   "source": [
    "# find all pairwise route times, store in a matrix by iterating through rows twice\n",
    "routing = herepy.RoutingApi(config.api_key)\n",
    "distances = list()\n",
    "for i in range(0,brewery_frame.shape[0]):\n",
    "    distance_subset = list()\n",
    "    start = brewery_frame.iloc[i]['Address']\n",
    "    for j in range(0,brewery_frame.shape[0]):\n",
    "        end = brewery_frame.iloc[j]['Address']\n",
    "        route = routing.pedastrian_route(start,end)\n",
    "        distance_subset.append(route.as_dict()['response']['route'][0]['leg'][0]['travelTime']/60)\n",
    "    distances.append(distance_subset)"
   ]
  },
  {
   "cell_type": "code",
   "execution_count": null,
   "metadata": {},
   "outputs": [],
   "source": []
  },
  {
   "cell_type": "code",
   "execution_count": 16,
   "metadata": {},
   "outputs": [],
   "source": [
    "# define number of breweries we want to force our model to visit, start with 5 to encourage feasibility\n",
    "# note that slots includes both home and away\n",
    "# define brewery goal\n",
    "brewery_goal = 8\n",
    "slots = range(brewery_goal+2)\n",
    "# define stay length in minutes at each brewery\n",
    "stay_length = 60\n",
    "# define the number of stops\n",
    "stops = range(brewery_frame.shape[0])\n",
    "# create model\n",
    "m = gp.Model('breweries')\n",
    "# add decision variables - i x s matrix indicating if location i visited in slot s\n",
    "theta = m.addVars(stops, slots, vtype=GRB.BINARY, name = 'theta_is')\n",
    "# add decision variables for whether or not route is take from i to j\n",
    "X = m.addVars(stops,stops, vtype=GRB.BINARY, name = 'x_ij')\n",
    "# add a decision variable for Ts - Time of arrival at slot S in midnights after midnight\n",
    "T = m.addVars(slots,vtype=GRB.INTEGER)\n",
    "# define objective\n",
    "m.setObjective(sum(sum(distances[i][j]*X[i,j] for i in stops) for j in stops),\n",
    "              GRB.MINIMIZE)"
   ]
  },
  {
   "cell_type": "code",
   "execution_count": 17,
   "metadata": {},
   "outputs": [
    {
     "data": {
      "text/plain": [
       "<gurobi.Constr *Awaiting Model Update*>"
      ]
     },
     "execution_count": 17,
     "metadata": {},
     "output_type": "execute_result"
    }
   ],
   "source": [
    "# add a constraint forcing T[s] to take the right value ####################################################################################\n",
    "for s in slots[1:]:\n",
    "    m.addConstr(T[s],GRB.GREATER_EQUAL,\n",
    "               #30*(s-1)+sum(sum(sum(int(distances[i][j])*X[i,j]*theta[i,n] for i in stops) for j in stops) for n in slots[0:s-1]))\n",
    "                stay_length+T[s-1]+sum(sum(distances[i][j]*X[i,j]*theta[i,s-1] for i in stops)for j in stops))\n",
    "# add constraint limiting X[i,j] to only turn on if theta[i,s] = 1 and theta[j,s+1] = 1\n",
    "for i in stops:\n",
    "    for j in stops:\n",
    "            m.addConstr(X[i,j],GRB.EQUAL,sum(theta[i,s]*theta[j,s+1] for s in slots[0:-1]))\n",
    "# add constraint forcing one slot per brewery max\n",
    "for i in stops:\n",
    "    m.addConstr(sum(theta[i,s] for s in slots),GRB.LESS_EQUAL,1)\n",
    "# add constraint forcing one brewery per slot\n",
    "for s in slots:\n",
    "    m.addConstr(sum(theta[i,s] for i in stops),GRB.EQUAL,1)\n",
    "# force first and last slot to be home\n",
    "m.addConstr(theta[0,0],GRB.EQUAL,1)\n",
    "m.addConstr(theta[stops[-1],slots[-1]],GRB.EQUAL,1)"
   ]
  },
  {
   "cell_type": "code",
   "execution_count": 18,
   "metadata": {},
   "outputs": [],
   "source": [
    "# enforce opening and closing hours\n",
    "for s in slots:\n",
    "    for i in stops:\n",
    "        m.addConstr(T[s],GRB.GREATER_EQUAL,brewery_frame['Open_minutes'][i]*theta[i,s])\n",
    "        m.addConstr((T[s]+stay_length)*theta[i,s],GRB.LESS_EQUAL,\n",
    "               brewery_frame['Close_minutes'][i])\n",
    "# cap T at the number of minutes in a day\n",
    "for s in slots:\n",
    "    m.addConstr(T[s],GRB.LESS_EQUAL,24*60-1)"
   ]
  },
  {
   "cell_type": "code",
   "execution_count": 19,
   "metadata": {},
   "outputs": [
    {
     "name": "stdout",
     "output_type": "stream",
     "text": [
      "Changed value of parameter InfUnbdInfo to 1\n",
      "   Prev: 0  Min: 0  Max: 1  Default: 0\n",
      "Gurobi Optimizer version 9.0.0 build v9.0.0rc2 (mac64)\n",
      "Optimize a model with 220 rows, 514 columns and 712 nonzeros\n",
      "Model fingerprint: 0x524977c8\n",
      "Model has 513 quadratic constraints\n",
      "Variable types: 0 continuous, 514 integer (504 binary)\n",
      "Coefficient statistics:\n",
      "  Matrix range     [1e+00, 8e+02]\n",
      "  QMatrix range    [1e+00, 1e+02]\n",
      "  QLMatrix range   [1e+00, 6e+01]\n",
      "  Objective range  [1e+00, 1e+02]\n",
      "  Bounds range     [1e+00, 1e+00]\n",
      "  RHS range        [1e+00, 1e+03]\n",
      "  QRHS range       [6e+01, 1e+03]\n",
      "Presolve removed 67 rows and 122 columns\n",
      "Presolve time: 0.02s\n",
      "Presolved: 5829 rows, 2206 columns, 15230 nonzeros\n",
      "Presolved model has 8 quadratic constraint(s)\n",
      "Variable types: 0 continuous, 2206 integer (2176 binary)\n",
      "\n",
      "Root relaxation: objective 6.426667e+01, 68 iterations, 0.01 seconds\n",
      "\n",
      "    Nodes    |    Current Node    |     Objective Bounds      |     Work\n",
      " Expl Unexpl |  Obj  Depth IntInf | Incumbent    BestBd   Gap | It/Node Time\n",
      "\n",
      "     0     0   64.26667    0   16          -   64.26667      -     -    0s\n",
      "     0     0   68.60522    0   41          -   68.60522      -     -    0s\n",
      "     0     0   68.60522    0   18          -   68.60522      -     -    0s\n",
      "     0     0   68.66457    0   49          -   68.66457      -     -    1s\n",
      "     0     0   68.66457    0   50          -   68.66457      -     -    1s\n",
      "     0     0   70.08077    0   34          -   70.08077      -     -    1s\n",
      "     0     0   70.08077    0   33          -   70.08077      -     -    1s\n",
      "     0     0   74.97372    0   42          -   74.97372      -     -    1s\n",
      "     0     0   78.93056    0   46          -   78.93056      -     -    1s\n",
      "     0     0   79.22037    0   33          -   79.22037      -     -    1s\n",
      "     0     0   79.55833    0   28          -   79.55833      -     -    2s\n",
      "     0     0   79.55833    0   27          -   79.55833      -     -    2s\n",
      "     0     0   79.91154    0   44          -   79.91154      -     -    2s\n",
      "     0     0   79.91154    0   46          -   79.91154      -     -    2s\n",
      "     0     0   80.03750    0   29          -   80.03750      -     -    2s\n",
      "     0     0   80.25000    0   27          -   80.25000      -     -    2s\n",
      "     0     0   80.25000    0   30          -   80.25000      -     -    2s\n",
      "     0     0   80.25000    0   27          -   80.25000      -     -    2s\n",
      "     0     0   80.25000    0   27          -   80.25000      -     -    2s\n",
      "     0     2   81.33056    0   27          -   81.33056      -     -    3s\n",
      "    41    41   98.23148   18   42          -   81.33056      -  52.8    5s\n",
      "H  141   115                     179.9833333   81.33056  54.8%  31.5    6s\n",
      "H  158   112                     174.8000000   81.33056  53.5%  29.1    6s\n",
      "*  176   115              50     174.7333333   81.74444  53.2%  27.3    6s\n",
      "H  427   290                     169.9333333   82.28333  51.6%  20.1    8s\n",
      "H  606   381                     162.7500000   82.28333  49.4%  19.9    9s\n",
      "   734   466   95.14922   18   41  162.75000   84.35833  48.2%  20.6   13s\n",
      "   747   478   84.35833   12   30  162.75000   84.35833  48.2%  22.8   15s\n",
      "*  860   503              44     156.0833333   84.35833  46.0%  26.2   16s\n",
      "  1581   688 infeasible   26       156.08333   87.21190  44.1%  23.7   20s\n",
      "H 1768   669                     154.1666667   88.42179  42.6%  24.1   21s\n",
      "  2843  1134   99.71000   24   33  154.16667   91.70000  40.5%  21.9   25s\n",
      "  4324  1757     cutoff   45       154.16667   94.80833  38.5%  20.8   30s\n",
      "  5868  2306  135.88333   21   23  154.16667   96.97500  37.1%  20.2   36s\n",
      "  7342  2589  107.55000   42   41  154.16667   99.36333  35.5%  20.0   44s\n",
      "  7344  2590  125.23333   23   29  154.16667   99.36333  35.5%  20.0   45s\n",
      "  7421  2642  102.81667   41   49  154.16667   99.36333  35.5%  19.8   50s\n",
      "  7591  2733   99.36333   43   88  154.16667   99.36333  35.5%  21.3   55s\n",
      "  7883  2788  126.12000   42   42  154.16667   99.36333  35.5%  22.4   60s\n",
      "  8777  2856  107.43333   40   44  154.16667   99.36333  35.5%  24.3   65s\n",
      "  9772  2793     cutoff   42       154.16667  102.68889  33.4%  25.3   70s\n",
      " 11055  2438  147.81111   40   79  154.16667  109.45365  29.0%  26.3   75s\n",
      " 12494  1858 infeasible   35       154.16667  116.08810  24.7%  26.8   80s\n",
      " 13931   876     cutoff   41       154.16667  128.35833  16.7%  26.8   85s\n",
      "\n",
      "Cutting planes:\n",
      "  Gomory: 1\n",
      "  Cover: 37\n",
      "  Implied bound: 54\n",
      "  Clique: 50\n",
      "  MIR: 2\n",
      "  StrongCG: 1\n",
      "  Flow cover: 78\n",
      "  Zero half: 72\n",
      "  RLT: 15\n",
      "\n",
      "Explored 14801 nodes (391277 simplex iterations) in 86.68 seconds\n",
      "Thread count was 4 (of 4 available processors)\n",
      "\n",
      "Solution count 7: 154.167 156.083 162.75 ... 179.983\n",
      "\n",
      "Optimal solution found (tolerance 1.00e-04)\n",
      "Best objective 1.541666666667e+02, best bound 1.541666666667e+02, gap 0.0000%\n"
     ]
    }
   ],
   "source": [
    "m.Params.InfUnbdInfo=1\n",
    "m.optimize()"
   ]
  },
  {
   "cell_type": "code",
   "execution_count": 20,
   "metadata": {},
   "outputs": [
    {
     "data": {
      "text/html": [
       "<div>\n",
       "<style scoped>\n",
       "    .dataframe tbody tr th:only-of-type {\n",
       "        vertical-align: middle;\n",
       "    }\n",
       "\n",
       "    .dataframe tbody tr th {\n",
       "        vertical-align: top;\n",
       "    }\n",
       "\n",
       "    .dataframe thead th {\n",
       "        text-align: right;\n",
       "    }\n",
       "</style>\n",
       "<table border=\"1\" class=\"dataframe\">\n",
       "  <thead>\n",
       "    <tr style=\"text-align: right;\">\n",
       "      <th></th>\n",
       "      <th>Name</th>\n",
       "      <th>Address</th>\n",
       "      <th>Open</th>\n",
       "      <th>Close</th>\n",
       "      <th>Food</th>\n",
       "      <th>Arrival Time</th>\n",
       "      <th>Departure Time</th>\n",
       "      <th>Minutes to next stop</th>\n",
       "    </tr>\n",
       "  </thead>\n",
       "  <tbody>\n",
       "    <tr>\n",
       "      <th>0</th>\n",
       "      <td>home</td>\n",
       "      <td>3005 Grayland Ave</td>\n",
       "      <td>--</td>\n",
       "      <td>--</td>\n",
       "      <td>--</td>\n",
       "      <td>--</td>\n",
       "      <td>12:01</td>\n",
       "      <td>59</td>\n",
       "    </tr>\n",
       "    <tr>\n",
       "      <th>1</th>\n",
       "      <td>Main Line Brewery</td>\n",
       "      <td>1603 Ownby Ln</td>\n",
       "      <td>13:00</td>\n",
       "      <td>23:00</td>\n",
       "      <td>NaN</td>\n",
       "      <td>13:00</td>\n",
       "      <td>14:00</td>\n",
       "      <td>5</td>\n",
       "    </tr>\n",
       "    <tr>\n",
       "      <th>2</th>\n",
       "      <td>Castleburg Brewery</td>\n",
       "      <td>1626 Ownby Ln</td>\n",
       "      <td>14:00</td>\n",
       "      <td>21:00</td>\n",
       "      <td>NaN</td>\n",
       "      <td>14:06</td>\n",
       "      <td>15:06</td>\n",
       "      <td>32</td>\n",
       "    </tr>\n",
       "    <tr>\n",
       "      <th>3</th>\n",
       "      <td>Strangeways</td>\n",
       "      <td>3110 W Leigh St</td>\n",
       "      <td>12:00</td>\n",
       "      <td>21:00</td>\n",
       "      <td>NaN</td>\n",
       "      <td>15:38</td>\n",
       "      <td>16:38</td>\n",
       "      <td>1</td>\n",
       "    </tr>\n",
       "    <tr>\n",
       "      <th>4</th>\n",
       "      <td>Ardent Craft Ales</td>\n",
       "      <td>3200 W Leigh St</td>\n",
       "      <td>12:00</td>\n",
       "      <td>22:00</td>\n",
       "      <td>NaN</td>\n",
       "      <td>16:40</td>\n",
       "      <td>17:40</td>\n",
       "      <td>5</td>\n",
       "    </tr>\n",
       "    <tr>\n",
       "      <th>5</th>\n",
       "      <td>Vasen Brewing</td>\n",
       "      <td>3331 W Moore St</td>\n",
       "      <td>12:00</td>\n",
       "      <td>22:00</td>\n",
       "      <td>NaN</td>\n",
       "      <td>17:46</td>\n",
       "      <td>18:46</td>\n",
       "      <td>5</td>\n",
       "    </tr>\n",
       "    <tr>\n",
       "      <th>6</th>\n",
       "      <td>Star Hill</td>\n",
       "      <td>3406 W Leigh St</td>\n",
       "      <td>13:00</td>\n",
       "      <td>22:00</td>\n",
       "      <td>NaN</td>\n",
       "      <td>18:54</td>\n",
       "      <td>19:54</td>\n",
       "      <td>5</td>\n",
       "    </tr>\n",
       "    <tr>\n",
       "      <th>7</th>\n",
       "      <td>The Veil Brewing Co.</td>\n",
       "      <td>1301 Roseneath Rd</td>\n",
       "      <td>12:00</td>\n",
       "      <td>21:00</td>\n",
       "      <td>NaN</td>\n",
       "      <td>20:00</td>\n",
       "      <td>21:00</td>\n",
       "      <td>12</td>\n",
       "    </tr>\n",
       "    <tr>\n",
       "      <th>8</th>\n",
       "      <td>Three Notch'd</td>\n",
       "      <td>2930 W Broad St</td>\n",
       "      <td>12:00</td>\n",
       "      <td>23:00</td>\n",
       "      <td>NaN</td>\n",
       "      <td>21:29</td>\n",
       "      <td>22:29</td>\n",
       "      <td>30</td>\n",
       "    </tr>\n",
       "    <tr>\n",
       "      <th>9</th>\n",
       "      <td>home</td>\n",
       "      <td>3005 Grayland Ave</td>\n",
       "      <td>--</td>\n",
       "      <td>--</td>\n",
       "      <td>--</td>\n",
       "      <td>22:59</td>\n",
       "      <td>--</td>\n",
       "      <td>--</td>\n",
       "    </tr>\n",
       "  </tbody>\n",
       "</table>\n",
       "</div>"
      ],
      "text/plain": [
       "                   Name            Address   Open  Close Food Arrival Time  \\\n",
       "0                  home  3005 Grayland Ave     --     --   --           --   \n",
       "1     Main Line Brewery      1603 Ownby Ln  13:00  23:00  NaN        13:00   \n",
       "2    Castleburg Brewery      1626 Ownby Ln  14:00  21:00  NaN        14:06   \n",
       "3           Strangeways    3110 W Leigh St  12:00  21:00  NaN        15:38   \n",
       "4     Ardent Craft Ales    3200 W Leigh St  12:00  22:00  NaN        16:40   \n",
       "5         Vasen Brewing    3331 W Moore St  12:00  22:00  NaN        17:46   \n",
       "6             Star Hill    3406 W Leigh St  13:00  22:00  NaN        18:54   \n",
       "7  The Veil Brewing Co.  1301 Roseneath Rd  12:00  21:00  NaN        20:00   \n",
       "8         Three Notch'd    2930 W Broad St  12:00  23:00  NaN        21:29   \n",
       "9                  home  3005 Grayland Ave     --     --   --        22:59   \n",
       "\n",
       "  Departure Time Minutes to next stop  \n",
       "0          12:01                   59  \n",
       "1          14:00                    5  \n",
       "2          15:06                   32  \n",
       "3          16:38                    1  \n",
       "4          17:40                    5  \n",
       "5          18:46                    5  \n",
       "6          19:54                    5  \n",
       "7          21:00                   12  \n",
       "8          22:29                   30  \n",
       "9             --                   --  "
      ]
     },
     "execution_count": 20,
     "metadata": {},
     "output_type": "execute_result"
    }
   ],
   "source": [
    "# parse out decision\n",
    "included = []\n",
    "arrival_times = []\n",
    "for s in slots:\n",
    "    #print('slot:' +str(s))\n",
    "    for i in stops:\n",
    "        if round(theta[i,s].x) ==1.0:\n",
    "            #print(brewery_frame.iloc[i]['Name'])\n",
    "            #print((origin+pd.Timedelta(minutes=T[s].x)).time())\n",
    "            included.append(i)\n",
    "            arrival_times.append((origin+pd.Timedelta(minutes=T[s].x)))\n",
    "itinerary = brewery_frame.iloc[included][['Name', 'Address', 'Open', 'Close','Food']].reset_index(drop=True)\n",
    "# assign arrival Time\n",
    "itinerary['Arrival Time'] = arrival_times\n",
    "# calculate departure time\n",
    "itinerary['Departure Time'] = itinerary['Arrival Time'].apply(lambda x: x+pd.Timedelta(minutes=stay_length))\n",
    "itinerary['Open'] = itinerary['Open'].apply(lambda x: x.time().strftime('%H:%M'))\n",
    "itinerary['Close'] = itinerary['Close'].apply(lambda x: x.time().strftime('%H:%M'))\n",
    "rows = itinerary.shape[0]\n",
    "# grab minutes to next destination\n",
    "distance_to_next = []\n",
    "for k in slots[0:-1]:\n",
    "    i = included[k]\n",
    "    j = included[k+1]\n",
    "    distance_to_next.append(round(distances[i][j]))\n",
    "# departure time from home = arrival second destination - walk to first destination\n",
    "depart_home = itinerary.iloc[1]['Arrival Time'] - pd.Timedelta(minutes = distance_to_next[0])\n",
    "arrive_home = itinerary.iloc[rows-2]['Departure Time'] + pd.Timedelta(minutes = distance_to_next[-1])\n",
    "itinerary.loc[0,'Departure Time'] = depart_home\n",
    "itinerary.loc[rows-1,'Arrival Time'] = arrive_home\n",
    "# now that calculations on time are down, strip unneeded date information\n",
    "itinerary['Arrival Time'] = itinerary['Arrival Time'].apply(lambda x: x.time().strftime('%H:%M'))\n",
    "itinerary['Departure Time'] = itinerary['Departure Time'].apply(lambda x: x.time().strftime('%H:%M'))\n",
    "itinerary.loc[0,'Arrival Time'] = '--'\n",
    "itinerary.loc[rows-1,'Departure Time'] = '--'\n",
    "itinerary.loc[0,'Open'] = '--'\n",
    "itinerary.loc[0,'Close'] = '--'\n",
    "itinerary.loc[0,'Food'] = '--'\n",
    "itinerary.loc[rows-1,'Open'] = '--'\n",
    "itinerary.loc[rows-1,'Close'] = '--'\n",
    "itinerary.loc[rows-1,'Food'] = '--'\n",
    "# strip everything after comma for address\n",
    "itinerary['Address'] = itinerary['Address'].str.replace(',.*','')\n",
    "# make distance to next string\n",
    "distance_to_next_str = [str(x) for x in distance_to_next]\n",
    "# add in -- for last one\n",
    "distance_to_next_str.append('--')\n",
    "itinerary['Minutes to next stop'] = distance_to_next_str\n",
    "# fix the first and last arrival time since the model doesn't care about those\n",
    "itinerary.reset_index(drop=True)"
   ]
  },
  {
   "cell_type": "code",
   "execution_count": 21,
   "metadata": {},
   "outputs": [
    {
     "ename": "AttributeError",
     "evalue": "'str' object has no attribute 'strftime'",
     "output_type": "error",
     "traceback": [
      "\u001b[0;31m---------------------------------------------------------------------------\u001b[0m",
      "\u001b[0;31mAttributeError\u001b[0m                            Traceback (most recent call last)",
      "\u001b[0;32m<ipython-input-21-917eb09b0ac9>\u001b[0m in \u001b[0;36m<module>\u001b[0;34m\u001b[0m\n\u001b[0;32m----> 1\u001b[0;31m \u001b[0mitinerary\u001b[0m\u001b[0;34m.\u001b[0m\u001b[0miloc\u001b[0m\u001b[0;34m[\u001b[0m\u001b[0;36m1\u001b[0m\u001b[0;34m]\u001b[0m\u001b[0;34m[\u001b[0m\u001b[0;34m'Open'\u001b[0m\u001b[0;34m]\u001b[0m\u001b[0;34m.\u001b[0m\u001b[0mstrftime\u001b[0m\u001b[0;34m(\u001b[0m\u001b[0;34m'%H:%M'\u001b[0m\u001b[0;34m)\u001b[0m\u001b[0;34m\u001b[0m\u001b[0;34m\u001b[0m\u001b[0m\n\u001b[0m",
      "\u001b[0;31mAttributeError\u001b[0m: 'str' object has no attribute 'strftime'"
     ]
    }
   ],
   "source": []
  },
  {
   "cell_type": "code",
   "execution_count": 683,
   "metadata": {},
   "outputs": [
    {
     "data": {
      "text/plain": [
       "'<table border=\"1\" class=\"dataframe\">\\n  <thead>\\n    <tr style=\"text-align: right;\">\\n      <th></th>\\n      <th>Name</th>\\n      <th>Address</th>\\n      <th>Open</th>\\n      <th>Close</th>\\n      <th>Food</th>\\n      <th>Arrival Time</th>\\n      <th>Departure Time</th>\\n      <th>Minutes to next stop</th>\\n    </tr>\\n  </thead>\\n  <tbody>\\n    <tr>\\n      <th>0</th>\\n      <td>home</td>\\n      <td>Calvary Episcopal Church</td>\\n      <td>--</td>\\n      <td>--</td>\\n      <td>--</td>\\n      <td>--</td>\\n      <td>11:32</td>\\n      <td>28</td>\\n    </tr>\\n    <tr>\\n      <th>1</th>\\n      <td>East End</td>\\n      <td>147 Julius St</td>\\n      <td>12:00</td>\\n      <td>18:00</td>\\n      <td>Yes</td>\\n      <td>12:00</td>\\n      <td>12:45</td>\\n      <td>19</td>\\n    </tr>\\n    <tr>\\n      <th>2</th>\\n      <td>Brewdog</td>\\n      <td>6144 Centre Ave</td>\\n      <td>11:00</td>\\n      <td>22:00</td>\\n      <td>Yes</td>\\n      <td>13:05</td>\\n      <td>13:50</td>\\n      <td>50</td>\\n    </tr>\\n    <tr>\\n      <th>3</th>\\n      <td>Trace</td>\\n      <td>4312 Main St</td>\\n      <td>13:00</td>\\n      <td>22:00</td>\\n      <td>Yes</td>\\n      <td>14:40</td>\\n      <td>15:25</td>\\n      <td>17</td>\\n    </tr>\\n    <tr>\\n      <th>4</th>\\n      <td>Church</td>\\n      <td>3525 Liberty Ave</td>\\n      <td>12:00</td>\\n      <td>23:00</td>\\n      <td>Yes</td>\\n      <td>15:43</td>\\n      <td>16:28</td>\\n      <td>41</td>\\n    </tr>\\n    <tr>\\n      <th>5</th>\\n      <td>Helltown</td>\\n      <td>1700 Penn Ave</td>\\n      <td>11:00</td>\\n      <td>23:00</td>\\n      <td>No</td>\\n      <td>17:09</td>\\n      <td>17:54</td>\\n      <td>4</td>\\n    </tr>\\n    <tr>\\n      <th>6</th>\\n      <td>Insurrection</td>\\n      <td>1812 Penn Ave</td>\\n      <td>11:00</td>\\n      <td>21:00</td>\\n      <td>No</td>\\n      <td>17:59</td>\\n      <td>18:44</td>\\n      <td>15</td>\\n    </tr>\\n    <tr>\\n      <th>7</th>\\n      <td>Cinderlands</td>\\n      <td>2601 Smallman St</td>\\n      <td>11:30</td>\\n      <td>23:00</td>\\n      <td>Yes</td>\\n      <td>18:59</td>\\n      <td>19:44</td>\\n      <td>30</td>\\n    </tr>\\n    <tr>\\n      <th>8</th>\\n      <td>Eleventh Hour</td>\\n      <td>3711 Charlotte St</td>\\n      <td>13:00</td>\\n      <td>21:00</td>\\n      <td>Yes</td>\\n      <td>20:15</td>\\n      <td>21:00</td>\\n      <td>4</td>\\n    </tr>\\n    <tr>\\n      <th>9</th>\\n      <td>Burghers</td>\\n      <td>3601 Butler St</td>\\n      <td>11:00</td>\\n      <td>22:00</td>\\n      <td>Yes</td>\\n      <td>21:14</td>\\n      <td>21:59</td>\\n      <td>74</td>\\n    </tr>\\n    <tr>\\n      <th>10</th>\\n      <td>home</td>\\n      <td>Calvary Episcopal Church</td>\\n      <td>--</td>\\n      <td>--</td>\\n      <td>--</td>\\n      <td>23:13</td>\\n      <td>--</td>\\n      <td>--</td>\\n    </tr>\\n  </tbody>\\n</table>'"
      ]
     },
     "execution_count": 683,
     "metadata": {},
     "output_type": "execute_result"
    }
   ],
   "source": [
    "itinerary.to_html()"
   ]
  },
  {
   "cell_type": "code",
   "execution_count": 607,
   "metadata": {},
   "outputs": [
    {
     "data": {
      "text/plain": [
       "245"
      ]
     },
     "execution_count": 607,
     "metadata": {},
     "output_type": "execute_result"
    }
   ],
   "source": [
    "12+65+4+30+15+4+41+17+57"
   ]
  },
  {
   "cell_type": "code",
   "execution_count": null,
   "metadata": {},
   "outputs": [],
   "source": [
    "sum(itinerary[''])"
   ]
  },
  {
   "cell_type": "code",
   "execution_count": 22,
   "metadata": {},
   "outputs": [],
   "source": [
    "# create an api call\n",
    "main_string = 'https://image.maps.ls.hereapi.com/mia/1.6/routing?apiKey='+config.api_key+'&TransportModeType=pedestrian'\n",
    "# create a string that joins all of the waypoints together\n",
    "included_coords = list(brewery_frame.loc[included]['coords'])\n",
    "waypoint_list = []\n",
    "poix_list = []\n",
    "for i in range(len(included_coords)):\n",
    "    waypoint_list.append('waypoint'+str(i)+'='+str(included_coords[i]))\n",
    "    poix_list.append('poix'+str(i)+'='+str(included_coords[i]))"
   ]
  },
  {
   "cell_type": "code",
   "execution_count": 23,
   "metadata": {},
   "outputs": [],
   "source": [
    "# make a separate map of all brewery optio"
   ]
  },
  {
   "cell_type": "code",
   "execution_count": 30,
   "metadata": {},
   "outputs": [],
   "source": [
    "import shutil\n",
    "api_call = main_string+'&'+('&'.join(waypoint_list))+'&'+('&'.join(poix_list))\n",
    "import requests\n",
    "from io import StringIO\n",
    "r = requests.get(api_call, stream = True)\n",
    "if r.status_code == 200:\n",
    "    with open(city+'_'+str(brewery_goal)+'.jpeg', 'wb') as f:\n",
    "        r.raw.decode_content = True\n",
    "        shutil.copyfileobj(r.raw, f)"
   ]
  },
  {
   "cell_type": "code",
   "execution_count": 682,
   "metadata": {},
   "outputs": [
    {
     "data": {
      "text/plain": [
       "'https://image.maps.ls.hereapi.com/mia/1.6/routing?apiKey=-eGe5WpGhIl5depjfbvcLDasVOx64obHjD_CPfoO3Wk&TransportModeType=pedestrian&waypoint0=40.45652,-79.92217&waypoint1=40.45919,-79.91144&waypoint2=40.46051,-79.92303&waypoint3=40.46424,-79.9533&waypoint4=40.46183,-79.96429&waypoint5=40.44983,-79.98587&waypoint6=40.45064,-79.9846&waypoint7=40.45573,-79.97906&waypoint8=40.46689,-79.96541&waypoint9=40.46548,-79.96524&waypoint10=40.45652,-79.92217&poix0=40.45652,-79.92217&poix1=40.45919,-79.91144&poix2=40.46051,-79.92303&poix3=40.46424,-79.9533&poix4=40.46183,-79.96429&poix5=40.44983,-79.98587&poix6=40.45064,-79.9846&poix7=40.45573,-79.97906&poix8=40.46689,-79.96541&poix9=40.46548,-79.96524&poix10=40.45652,-79.92217'"
      ]
     },
     "execution_count": 682,
     "metadata": {},
     "output_type": "execute_result"
    }
   ],
   "source": [
    "api_call"
   ]
  },
  {
   "cell_type": "code",
   "execution_count": 656,
   "metadata": {},
   "outputs": [
    {
     "name": "stderr",
     "output_type": "stream",
     "text": [
      "/Users/devrajkori/anaconda3/lib/python3.7/site-packages/ipykernel_launcher.py:18: FutureWarning: Method `add_children` is deprecated. Please use `add_child` instead.\n"
     ]
    },
    {
     "data": {
      "text/html": [
       "<div style=\"width:100%;\"><div style=\"position:relative;width:100%;height:0;padding-bottom:60%;\"><span style=\"color:#565656\">Make this Notebook Trusted to load map: File -> Trust Notebook</span><iframe src=\"about:blank\" style=\"position:absolute;width:100%;height:100%;left:0;top:0;border:none !important;\" data-html=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 onload=\"this.contentDocument.open();this.contentDocument.write(atob(this.getAttribute('data-html')));this.contentDocument.close();\" allowfullscreen webkitallowfullscreen mozallowfullscreen></iframe></div></div>"
      ],
      "text/plain": [
       "<folium.folium.Map at 0x116dffcc0>"
      ]
     },
     "execution_count": 656,
     "metadata": {},
     "output_type": "execute_result"
    }
   ],
   "source": [
    "# map oout all breweries for blog post\n",
    "import folium\n",
    "icon_size = (14, 14)\n",
    "lon, lat =  -79.9532, 40.4443 \n",
    "zoom_start = 12\n",
    "mapa = folium.Map(location=[lat, lon], tiles=\"Cartodb Positron\",\n",
    "                  zoom_start=zoom_start)\n",
    "# loop through brewery_frame coords, define lat lon\n",
    "coord_for_map = []\n",
    "for i in range(brewery_frame.shape[0]):\n",
    "    coordinates = brewery_frame.iloc[i]['coords'].split(',')\n",
    "    icon_url = 'https://devrajkori.com/wp-content/uploads/2021/04/beer_icon.png'\n",
    "    icon = folium.features.CustomIcon(icon_url,\n",
    "                                  icon_size=(14, 14))\n",
    "    # make the name a clickable popup\n",
    "    popup = brewery_frame.iloc[i]['Name']\n",
    "    marker = folium.map.Marker(coordinates, icon=icon, popup=folium.map.Popup(popup))\n",
    "    mapa.add_children(marker)\n",
    "mapa"
   ]
  },
  {
   "cell_type": "code",
   "execution_count": 657,
   "metadata": {},
   "outputs": [],
   "source": [
    "mapa.save('all_breweries_map.html')"
   ]
  },
  {
   "cell_type": "code",
   "execution_count": 640,
   "metadata": {},
   "outputs": [
    {
     "data": {
      "text/plain": [
       "'https://image.maps.ls.hereapi.com/mia/1.6/routing?apiKey=-eGe5WpGhIl5depjfbvcLDasVOx64obHjD_CPfoO3Wk&poix0=40.45652,-79.92217&poix1=40.45446,-80.00003&poix2=40.45697,-79.99178&poix3=40.45064,-79.9846&poix4=40.44983,-79.98587&poix5=40.49457,-79.93265&poix6=40.4963,-79.92657&poix7=40.46689,-79.96541&poix8=40.46548,-79.96524&poix9=40.4065,-79.90998&poix10=40.48444,-79.94795'"
      ]
     },
     "execution_count": 640,
     "metadata": {},
     "output_type": "execute_result"
    }
   ],
   "source": [
    "api_call2"
   ]
  },
  {
   "cell_type": "code",
   "execution_count": 641,
   "metadata": {},
   "outputs": [
    {
     "data": {
      "text/plain": [
       "'https://image.maps.ls.hereapi.com/mia/1.6/routing?apiKey=-eGe5WpGhIl5depjfbvcLDasVOx64obHjD_CPfoO3Wk'"
      ]
     },
     "execution_count": 641,
     "metadata": {},
     "output_type": "execute_result"
    }
   ],
   "source": [
    "main_string"
   ]
  },
  {
   "cell_type": "code",
   "execution_count": 658,
   "metadata": {},
   "outputs": [
    {
     "data": {
      "text/html": [
       "<div style=\"width:100%;\"><div style=\"position:relative;width:100%;height:0;padding-bottom:60%;\"><span style=\"color:#565656\">Make this Notebook Trusted to load map: File -> Trust Notebook</span><iframe src=\"about:blank\" style=\"position:absolute;width:100%;height:100%;left:0;top:0;border:none !important;\" data-html=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 onload=\"this.contentDocument.open();this.contentDocument.write(atob(this.getAttribute('data-html')));this.contentDocument.close();\" allowfullscreen webkitallowfullscreen mozallowfullscreen></iframe></div></div>"
      ],
      "text/plain": [
       "<folium.folium.Map at 0x116dffcc0>"
      ]
     },
     "execution_count": 658,
     "metadata": {},
     "output_type": "execute_result"
    }
   ],
   "source": [
    "mapa"
   ]
  },
  {
   "cell_type": "code",
   "execution_count": null,
   "metadata": {},
   "outputs": [],
   "source": []
  },
  {
   "cell_type": "code",
   "execution_count": null,
   "metadata": {},
   "outputs": [],
   "source": []
  },
  {
   "cell_type": "code",
   "execution_count": null,
   "metadata": {},
   "outputs": [],
   "source": []
  },
  {
   "cell_type": "code",
   "execution_count": null,
   "metadata": {},
   "outputs": [],
   "source": []
  },
  {
   "cell_type": "code",
   "execution_count": null,
   "metadata": {},
   "outputs": [],
   "source": []
  }
 ],
 "metadata": {
  "kernelspec": {
   "display_name": "Python 3",
   "language": "python",
   "name": "python3"
  },
  "language_info": {
   "codemirror_mode": {
    "name": "ipython",
    "version": 3
   },
   "file_extension": ".py",
   "mimetype": "text/x-python",
   "name": "python",
   "nbconvert_exporter": "python",
   "pygments_lexer": "ipython3",
   "version": "3.7.1"
  }
 },
 "nbformat": 4,
 "nbformat_minor": 2
}
